{
 "cells": [
  {
   "cell_type": "markdown",
   "metadata": {
    "collapsed": true
   },
   "source": [
    "VGG16 is one of the simplest (among the other cnn architectures used in Imagenet competition). Key Characteristics:\n",
    "\n",
    "1. This network contains total 16 layers in which weights and bias parameters are learnt. \n",
    "2. A total of 13 Convolutional Layers stacked one after the other. \n",
    "3. The number of filters follow an increasing pattern (similar to decoder architecture of autoencoder). \n",
    "4. The informative features are obtained by max pooling layers applied at different steps in the architecture. \n",
    "5. The convolutional features are passed to 3 fully connected (dense) layers comprising of 4096, 4096, and 1000 nodes each."
   ]
  },
  {
   "cell_type": "code",
   "execution_count": 3,
   "metadata": {},
   "outputs": [],
   "source": [
    "from keras.layers import Input, Conv2D, MaxPooling2D\n",
    "from keras.layers import Dense, Flatten\n",
    "from keras.models import Model\n",
    "\n",
    "_input = Input((224, 224, 1))\n",
    "\n",
    "conv1 = Conv2D(filters=64, kernel_size=(3, 3), padding=\"same\", activation=\"relu\")(_input)\n",
    "conv2 = Conv2D(filters=64, kernel_size=(3, 3), padding=\"same\", activation=\"relu\")(conv1)\n",
    "pool1 = MaxPooling2D((2, 2))(conv2)\n",
    "\n",
    "conv3 = Conv2D(filters=128, kernel_size=(3, 3), padding=\"same\", activation=\"relu\")(pool1)\n",
    "conv4 = Conv2D(filters=128, kernel_size=(3, 3), padding=\"same\", activation=\"relu\")(conv3)\n",
    "pool2 = MaxPooling2D((2, 2))(conv4)\n",
    "\n",
    "conv5 = Conv2D(filters=256, kernel_size=(3, 3), padding=\"same\", activation=\"relu\")(pool2)\n",
    "conv6 = Conv2D(filters=256, kernel_size=(3, 3), padding=\"same\", activation=\"relu\")(conv5)\n",
    "conv7 = Conv2D(filters=256, kernel_size=(3, 3), padding=\"same\", activation=\"relu\")(conv6)\n",
    "pool3 = MaxPooling2D((2, 2))(conv7)\n",
    "\n",
    "conv8 = Conv2D(filters=512, kernel_size=(3, 3), padding=\"same\", activation=\"relu\")(pool3)\n",
    "conv9 = Conv2D(filters=512, kernel_size=(3, 3), padding=\"same\", activation=\"relu\")(conv8)\n",
    "conv10 = Conv2D(filters=512, kernel_size=(3, 3), padding=\"same\", activation=\"relu\")(conv9)\n",
    "pool4 = MaxPooling2D((2, 2))(conv10)\n",
    "\n",
    "conv11 = Conv2D(filters=512, kernel_size=(3, 3), padding=\"same\", activation=\"relu\")(pool4)\n",
    "conv12 = Conv2D(filters=512, kernel_size=(3, 3), padding=\"same\", activation=\"relu\")(conv11)\n",
    "conv13 = Conv2D(filters=512, kernel_size=(3, 3), padding=\"same\", activation=\"relu\")(conv12)\n",
    "pool5 = MaxPooling2D((2, 2))(conv13)\n",
    "\n",
    "flat = Flatten()(pool5)\n",
    "dense1 = Dense(4096, activation=\"relu\")(flat)\n",
    "dense2 = Dense(4096, activation=\"relu\")(dense1)\n",
    "output = Dense(1000, activation=\"softmax\")(dense2)\n",
    "\n",
    "vgg16_model = Model(inputs=_input, outputs=output)"
   ]
  },
  {
   "cell_type": "code",
   "execution_count": null,
   "metadata": {},
   "outputs": [],
   "source": []
  }
 ],
 "metadata": {
  "kernelspec": {
   "display_name": "Python 2",
   "language": "python",
   "name": "python2"
  },
  "language_info": {
   "codemirror_mode": {
    "name": "ipython",
    "version": 2
   },
   "file_extension": ".py",
   "mimetype": "text/x-python",
   "name": "python",
   "nbconvert_exporter": "python",
   "pygments_lexer": "ipython2",
   "version": "2.7.6"
  }
 },
 "nbformat": 4,
 "nbformat_minor": 0
}
